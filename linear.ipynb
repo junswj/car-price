{
 "cells": [
  {
   "cell_type": "code",
   "execution_count": 1,
   "metadata": {},
   "outputs": [],
   "source": [
    "import pandas as pd\n",
    "import numpy as np\n",
    "import matplotlib.pyplot as plt"
   ]
  },
  {
   "cell_type": "code",
   "execution_count": 2,
   "metadata": {},
   "outputs": [],
   "source": [
    "raw_df=pd.read_csv('data/car_data_final.csv')"
   ]
  },
  {
   "cell_type": "code",
   "execution_count": 3,
   "metadata": {},
   "outputs": [
    {
     "data": {
      "text/html": [
       "<div>\n",
       "<style scoped>\n",
       "    .dataframe tbody tr th:only-of-type {\n",
       "        vertical-align: middle;\n",
       "    }\n",
       "\n",
       "    .dataframe tbody tr th {\n",
       "        vertical-align: top;\n",
       "    }\n",
       "\n",
       "    .dataframe thead th {\n",
       "        text-align: right;\n",
       "    }\n",
       "</style>\n",
       "<table border=\"1\" class=\"dataframe\">\n",
       "  <thead>\n",
       "    <tr style=\"text-align: right;\">\n",
       "      <th></th>\n",
       "      <th>url</th>\n",
       "      <th>city</th>\n",
       "      <th>price</th>\n",
       "      <th>year</th>\n",
       "      <th>company</th>\n",
       "      <th>model</th>\n",
       "      <th>condition</th>\n",
       "      <th>cylinders</th>\n",
       "      <th>fuel</th>\n",
       "      <th>mileage</th>\n",
       "      <th>title_status</th>\n",
       "      <th>transmission</th>\n",
       "      <th>drive</th>\n",
       "      <th>size</th>\n",
       "      <th>type</th>\n",
       "      <th>paint_color</th>\n",
       "    </tr>\n",
       "  </thead>\n",
       "  <tbody>\n",
       "    <tr>\n",
       "      <th>0</th>\n",
       "      <td>https://sfbay.craigslist.org/pen/cto/d/burling...</td>\n",
       "      <td>SF bay area</td>\n",
       "      <td>8300</td>\n",
       "      <td>2002.0</td>\n",
       "      <td>subaru</td>\n",
       "      <td>wrx</td>\n",
       "      <td>excellent</td>\n",
       "      <td>6 cylinders</td>\n",
       "      <td>gas</td>\n",
       "      <td>136000.0</td>\n",
       "      <td>clean</td>\n",
       "      <td>manual</td>\n",
       "      <td>fwd</td>\n",
       "      <td>mid-size</td>\n",
       "      <td>sedan</td>\n",
       "      <td>silver</td>\n",
       "    </tr>\n",
       "    <tr>\n",
       "      <th>1</th>\n",
       "      <td>https://sfbay.craigslist.org/eby/cto/d/newark-...</td>\n",
       "      <td>SF bay area</td>\n",
       "      <td>6900</td>\n",
       "      <td>2008.0</td>\n",
       "      <td>bmw</td>\n",
       "      <td>x5 3.0si</td>\n",
       "      <td>NaN</td>\n",
       "      <td>NaN</td>\n",
       "      <td>gas</td>\n",
       "      <td>170226.0</td>\n",
       "      <td>clean</td>\n",
       "      <td>automatic</td>\n",
       "      <td>NaN</td>\n",
       "      <td>NaN</td>\n",
       "      <td>NaN</td>\n",
       "      <td>NaN</td>\n",
       "    </tr>\n",
       "    <tr>\n",
       "      <th>2</th>\n",
       "      <td>https://sfbay.craigslist.org/sby/cto/d/san-jos...</td>\n",
       "      <td>SF bay area</td>\n",
       "      <td>4700</td>\n",
       "      <td>2008.0</td>\n",
       "      <td>toyota</td>\n",
       "      <td>scion</td>\n",
       "      <td>excellent</td>\n",
       "      <td>4 cylinders</td>\n",
       "      <td>gas</td>\n",
       "      <td>137155.0</td>\n",
       "      <td>clean</td>\n",
       "      <td>automatic</td>\n",
       "      <td>NaN</td>\n",
       "      <td>NaN</td>\n",
       "      <td>NaN</td>\n",
       "      <td>NaN</td>\n",
       "    </tr>\n",
       "    <tr>\n",
       "      <th>3</th>\n",
       "      <td>https://sfbay.craigslist.org/nby/cto/d/bodega-...</td>\n",
       "      <td>SF bay area</td>\n",
       "      <td>6000</td>\n",
       "      <td>1984.0</td>\n",
       "      <td>mercedes-benz</td>\n",
       "      <td>benz 300d turbo</td>\n",
       "      <td>excellent</td>\n",
       "      <td>5 cylinders</td>\n",
       "      <td>diesel</td>\n",
       "      <td>231460.0</td>\n",
       "      <td>clean</td>\n",
       "      <td>automatic</td>\n",
       "      <td>rwd</td>\n",
       "      <td>NaN</td>\n",
       "      <td>sedan</td>\n",
       "      <td>NaN</td>\n",
       "    </tr>\n",
       "    <tr>\n",
       "      <th>4</th>\n",
       "      <td>https://sfbay.craigslist.org/eby/ctd/d/sacrame...</td>\n",
       "      <td>SF bay area</td>\n",
       "      <td>11994</td>\n",
       "      <td>2012.0</td>\n",
       "      <td>bmw</td>\n",
       "      <td>x3</td>\n",
       "      <td>NaN</td>\n",
       "      <td>NaN</td>\n",
       "      <td>gas</td>\n",
       "      <td>112181.0</td>\n",
       "      <td>clean</td>\n",
       "      <td>automatic</td>\n",
       "      <td>NaN</td>\n",
       "      <td>NaN</td>\n",
       "      <td>SUV</td>\n",
       "      <td>NaN</td>\n",
       "    </tr>\n",
       "  </tbody>\n",
       "</table>\n",
       "</div>"
      ],
      "text/plain": [
       "                                                 url         city  price  \\\n",
       "0  https://sfbay.craigslist.org/pen/cto/d/burling...  SF bay area   8300   \n",
       "1  https://sfbay.craigslist.org/eby/cto/d/newark-...  SF bay area   6900   \n",
       "2  https://sfbay.craigslist.org/sby/cto/d/san-jos...  SF bay area   4700   \n",
       "3  https://sfbay.craigslist.org/nby/cto/d/bodega-...  SF bay area   6000   \n",
       "4  https://sfbay.craigslist.org/eby/ctd/d/sacrame...  SF bay area  11994   \n",
       "\n",
       "     year        company            model  condition    cylinders    fuel  \\\n",
       "0  2002.0         subaru              wrx  excellent  6 cylinders     gas   \n",
       "1  2008.0            bmw         x5 3.0si        NaN          NaN     gas   \n",
       "2  2008.0         toyota            scion  excellent  4 cylinders     gas   \n",
       "3  1984.0  mercedes-benz  benz 300d turbo  excellent  5 cylinders  diesel   \n",
       "4  2012.0            bmw               x3        NaN          NaN     gas   \n",
       "\n",
       "    mileage title_status transmission drive      size   type paint_color  \n",
       "0  136000.0        clean       manual   fwd  mid-size  sedan      silver  \n",
       "1  170226.0        clean    automatic   NaN       NaN    NaN         NaN  \n",
       "2  137155.0        clean    automatic   NaN       NaN    NaN         NaN  \n",
       "3  231460.0        clean    automatic   rwd       NaN  sedan         NaN  \n",
       "4  112181.0        clean    automatic   NaN       NaN    SUV         NaN  "
      ]
     },
     "execution_count": 3,
     "metadata": {},
     "output_type": "execute_result"
    }
   ],
   "source": [
    "raw_df.head()"
   ]
  },
  {
   "cell_type": "code",
   "execution_count": 4,
   "metadata": {},
   "outputs": [],
   "source": [
    "df=raw_df.copy()"
   ]
  },
  {
   "cell_type": "code",
   "execution_count": 5,
   "metadata": {},
   "outputs": [],
   "source": [
    "def pre_clean_df(raw_df):\n",
    "    df=raw_df[['url', 'city', 'price', 'year', 'company', 'model', 'condition',\n",
    "       'cylinders', 'fuel', 'mileage', 'title_status', 'transmission', 'drive',\n",
    "       'size', 'type', 'paint_color']]\n",
    "    \n",
    "    df.dropna(subset=['company'], inplace=True)\n",
    "    df.dropna(subset=['mileage'], inplace=True)\n",
    "    \n",
    "    brand_lst=['ford', 'chevrolet','toyota','honda','bmw','nissan','mercedes-benz','ram','jeep','gmc','dodge','volkswagen','lexus','hyundai',\n",
    "    'subaru','audi','acura','kia','mazda','cadillac','chrysler','infiniti','volvo', 'mini', 'buick']\n",
    "    df=df[df.company.str.contains('|'.join(brand_lst))]\n",
    "    \n",
    "    \n",
    "    df.drop(df.loc[(df.year<1980)].index, axis=0, inplace=True)\n",
    "    df.drop(df.loc[(df.price>90000)|(df.price<50)].index, axis=0, inplace=True)\n",
    "    df.drop(df.loc[(df.year>2019)&(df.price<15000)].index, axis=0, inplace=True)\n",
    "    df.drop(df.loc[(df.mileage>500000)].index, axis=0, inplace=True)\n",
    "    df.drop(df.loc[(df.mileage<2000)&(df.year<2019)].index, axis=0, inplace=True)\n",
    "    df.drop(df.loc[(df.company=='bmw')&(df.year<1990)&(df.price>50000)].index, axis=0, inplace=True)\n",
    "    df.drop(df.loc[(df.mileage>900000)].index, axis=0, inplace=True)   \n",
    "    \n",
    "    df.reset_index(drop=True, inplace=True)\n",
    "    return df"
   ]
  },
  {
   "cell_type": "code",
   "execution_count": 6,
   "metadata": {},
   "outputs": [],
   "source": [
    "df=pre_clean_df(raw_df)"
   ]
  },
  {
   "cell_type": "code",
   "execution_count": 7,
   "metadata": {},
   "outputs": [
    {
     "data": {
      "text/plain": [
       "<matplotlib.collections.PathCollection at 0x127629748>"
      ]
     },
     "execution_count": 7,
     "metadata": {},
     "output_type": "execute_result"
    },
    {
     "data": {
      "image/png": "[encoded data removed]",
      "text/plain": [
       "<Figure size 864x504 with 1 Axes>"
      ]
     },
     "metadata": {
      "needs_background": "light"
     },
     "output_type": "display_data"
    }
   ],
   "source": [
    "fig, ax = plt.subplots(1, figsize=(12,7))\n",
    "ax.scatter(df.year, df.price)"
   ]
  },
  {
   "cell_type": "code",
   "execution_count": 8,
   "metadata": {},
   "outputs": [],
   "source": [
    "from sklearn.model_selection import train_test_split"
   ]
  },
  {
   "cell_type": "code",
   "execution_count": 9,
   "metadata": {},
   "outputs": [],
   "source": [
    "y=df.pop('price')\n",
    "X=df[['year', 'mileage', 'drive', 'fuel']]"
   ]
  },
  {
   "cell_type": "code",
   "execution_count": 10,
   "metadata": {},
   "outputs": [],
   "source": [
    "X_train, X_test, y_train, y_test = train_test_split(X, y, test_size=0.2)"
   ]
  },
  {
   "cell_type": "code",
   "execution_count": 11,
   "metadata": {},
   "outputs": [],
   "source": [
    "from sklearn.linear_model import LinearRegression"
   ]
  },
  {
   "cell_type": "code",
   "execution_count": 12,
   "metadata": {},
   "outputs": [],
   "source": [
    "lr=LinearRegression()"
   ]
  },
  {
   "cell_type": "code",
   "execution_count": 13,
   "metadata": {},
   "outputs": [],
   "source": [
    "result=lr.fit(X_train[['year','mileage']], y_train)"
   ]
  },
  {
   "cell_type": "code",
   "execution_count": 14,
   "metadata": {},
   "outputs": [
    {
     "data": {
      "text/plain": [
       "0.3535848872035433"
      ]
     },
     "execution_count": 14,
     "metadata": {},
     "output_type": "execute_result"
    }
   ],
   "source": [
    "result.score(X_test[['year','mileage']], y_test )"
   ]
  },
  {
   "cell_type": "code",
   "execution_count": 25,
   "metadata": {},
   "outputs": [],
   "source": [
    "def readable(df):\n",
    "    df['year']=df['year'].map(lambda x :(x - df['year'].mean())/df['year'].std())\n",
    "    df['mileage']=df['mileage'].map(lambda x :(x - df['mileage'].mean())/df['mileage'].std())\n",
    "    new_df=df.join(pd.get_dummies(df[['drive', 'fuel']]))\n",
    "    new_df.drop(['drive', 'fuel'],axis=1, inplace=True)\n",
    "    return new_df"
   ]
  },
  {
   "cell_type": "code",
   "execution_count": 26,
   "metadata": {},
   "outputs": [
    {
     "name": "stderr",
     "output_type": "stream",
     "text": [
      "/anaconda3/lib/python3.7/site-packages/ipykernel_launcher.py:2: SettingWithCopyWarning: \n",
      "A value is trying to be set on a copy of a slice from a DataFrame.\n",
      "Try using .loc[row_indexer,col_indexer] = value instead\n",
      "\n",
      "See the caveats in the documentation: http://pandas.pydata.org/pandas-docs/stable/indexing.html#indexing-view-versus-copy\n",
      "  \n",
      "/anaconda3/lib/python3.7/site-packages/ipykernel_launcher.py:3: SettingWithCopyWarning: \n",
      "A value is trying to be set on a copy of a slice from a DataFrame.\n",
      "Try using .loc[row_indexer,col_indexer] = value instead\n",
      "\n",
      "See the caveats in the documentation: http://pandas.pydata.org/pandas-docs/stable/indexing.html#indexing-view-versus-copy\n",
      "  This is separate from the ipykernel package so we can avoid doing imports until\n"
     ]
    }
   ],
   "source": [
    "X_tr=readable(X_train)\n",
    "X_te=readable(X_test)"
   ]
  },
  {
   "cell_type": "code",
   "execution_count": 27,
   "metadata": {},
   "outputs": [],
   "source": [
    "result2=lr.fit(X_tr, y_train)"
   ]
  },
  {
   "cell_type": "code",
   "execution_count": 28,
   "metadata": {},
   "outputs": [
    {
     "data": {
      "text/plain": [
       "0.5505655301225518"
      ]
     },
     "execution_count": 28,
     "metadata": {},
     "output_type": "execute_result"
    }
   ],
   "source": [
    "result2.score(X_te, y_test)"
   ]
  },
  {
   "cell_type": "code",
   "execution_count": null,
   "metadata": {},
   "outputs": [],
   "source": []
  }
 ],
 "metadata": {
  "kernelspec": {
   "display_name": "Python 3",
   "language": "python",
   "name": "python3"
  },
  "language_info": {
   "codemirror_mode": {
    "name": "ipython",
    "version": 3
   },
   "file_extension": ".py",
   "mimetype": "text/x-python",
   "name": "python",
   "nbconvert_exporter": "python",
   "pygments_lexer": "ipython3",
   "version": "3.7.3"
  }
 },
 "nbformat": 4,
 "nbformat_minor": 2
}
