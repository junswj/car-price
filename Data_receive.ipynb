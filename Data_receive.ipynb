{
 "cells": [
  {
   "cell_type": "code",
   "execution_count": 1,
   "metadata": {},
   "outputs": [],
   "source": [
    "import pandas  as pd\n",
    "import numpy as np\n",
    "import requests\n",
    "from bs4 import BeautifulSoup\n",
    "import pickle"
   ]
  },
  {
   "cell_type": "code",
   "execution_count": 2,
   "metadata": {},
   "outputs": [],
   "source": [
    "def make_simple(df,col='model'):\n",
    "    \n",
    "    df[col]=df[col].fillna('null')\n",
    "    df[col]=df[col].str.lower()\n",
    "    df[col]=df[col].str.replace('-','')\n",
    "    df[col]=df[col].str.replace(' ','')\n",
    "    df[col]=df[col].str.replace('_',' ')\n",
    "    car_model=['silverado', 'f150', 'civic', 'accord', 'f250', 'camry', 'tacoma', 'corolla', 'wrangler',\n",
    "              'sierra', 'prius', 'f350', 'altima', 'mustang', 'cherokee', 'x5', 'x3', 'tundra', 'fusion', 'focus',\n",
    "               'tahoe', 'jetta', 'yukon', 'crv', 'explorer', 'sentra', 'cooper', 'escape', 'sienna', '328i', 'sonata',\n",
    "               'rav4', 'odyssey', 'elantra', 'outback', 'suburban', 'a4', '4runner', 'camaro', 'cruze', 'e350', \n",
    "               'highlander', 'rogue', '3series', 'escalade', 'charger', 'impala', 'ranger', 'pilot', 'malibu',\n",
    "               'challenger', 'forester', 'impreza', 'expedition', 'genesis','gti','cclass', 'corvette', 'frontier', 'colorado',\n",
    "                'passat', 'mdx', 'optima', 'versa', 'sprinter', 'equinox', 'is250', 'is350','edge', 'grand caravan', 'eclass',\n",
    "               'santafe', 'mazda3', 'durango', 'tsx', '5series','7series' 'f550', 'xc90', 'q5','soul', 'cruiser','wrx','golf', 'sorento', \n",
    "               'traverse', 'acadia', 'pathfinder', 'beetle', 'xterra', '1500', '2500', '3500']\n",
    "    for i in car_model:\n",
    "        df[col][df[col].str.contains(i)]=i\n",
    "    df[col][df[col].apply(lambda x: x not in car_model)]='null'\n",
    "    df.drop(columns=['VIN'], inplace=True)\n",
    "    return df"
   ]
  },
  {
   "cell_type": "code",
   "execution_count": 3,
   "metadata": {},
   "outputs": [],
   "source": [
    "def df_stand(df):\n",
    "    df['year'] = (2020-year)/40\n",
    "    df['mileage'] = df['odometer'].apply(lambda x : (int(x)-93453)/104729)\n",
    "    df.drop(columns=['odometer'], inplace=True)\n",
    "    return df"
   ]
  },
  {
   "cell_type": "code",
   "execution_count": 4,
   "metadata": {},
   "outputs": [],
   "source": [
    "def get_dummy(df):\n",
    "    dummy_col=df.select_dtypes('object').columns\n",
    "    new_df=pd.get_dummies(df, columns=dummy_col, dummy_na=True,prefix=dummy_col)\n",
    "    return new_df"
   ]
  },
  {
   "cell_type": "code",
   "execution_count": 5,
   "metadata": {},
   "outputs": [],
   "source": [
    "url='https://sfbay.craigslist.org/sby/cto/d/sunnyvale-2010-bmw-3-series-328i-98k/6937480401.html'"
   ]
  },
  {
   "cell_type": "code",
   "execution_count": 6,
   "metadata": {},
   "outputs": [],
   "source": [
    "r=requests.get(url)"
   ]
  },
  {
   "cell_type": "code",
   "execution_count": 7,
   "metadata": {},
   "outputs": [],
   "source": [
    "soup=BeautifulSoup(r.content, \"html\")"
   ]
  },
  {
   "cell_type": "markdown",
   "metadata": {},
   "source": [
    "# Title"
   ]
  },
  {
   "cell_type": "code",
   "execution_count": 8,
   "metadata": {
    "scrolled": false
   },
   "outputs": [],
   "source": [
    "title=soup.title.text.strip()\n",
    "title=str(title)"
   ]
  },
  {
   "cell_type": "code",
   "execution_count": 9,
   "metadata": {
    "scrolled": true
   },
   "outputs": [
    {
     "data": {
      "text/plain": [
       "'2010 BMW 3 Series 328i, 98k miles - cars & trucks - by owner - vehicle automotive sale'"
      ]
     },
     "execution_count": 9,
     "metadata": {},
     "output_type": "execute_result"
    }
   ],
   "source": [
    "title"
   ]
  },
  {
   "cell_type": "markdown",
   "metadata": {},
   "source": [
    "# Year"
   ]
  },
  {
   "cell_type": "code",
   "execution_count": 10,
   "metadata": {},
   "outputs": [],
   "source": [
    "year=int(title[:4])"
   ]
  },
  {
   "cell_type": "code",
   "execution_count": 11,
   "metadata": {},
   "outputs": [
    {
     "data": {
      "text/plain": [
       "2010"
      ]
     },
     "execution_count": 11,
     "metadata": {},
     "output_type": "execute_result"
    }
   ],
   "source": [
    "year"
   ]
  },
  {
   "cell_type": "markdown",
   "metadata": {},
   "source": [
    "# Price"
   ]
  },
  {
   "cell_type": "code",
   "execution_count": 12,
   "metadata": {},
   "outputs": [],
   "source": [
    "title_txt=soup.find(\"span\", {\"class\": \"postingtitletext\"})"
   ]
  },
  {
   "cell_type": "code",
   "execution_count": 13,
   "metadata": {},
   "outputs": [
    {
     "data": {
      "text/plain": [
       "'$7400'"
      ]
     },
     "execution_count": 13,
     "metadata": {},
     "output_type": "execute_result"
    }
   ],
   "source": [
    "price=title_txt.find_all(\"span\")\n",
    "price=price[1].text.strip()\n",
    "price"
   ]
  },
  {
   "cell_type": "markdown",
   "metadata": {},
   "source": [
    "# Image"
   ]
  },
  {
   "cell_type": "code",
   "execution_count": 14,
   "metadata": {},
   "outputs": [],
   "source": [
    "image_data = soup.find(\"div\", {\"class\": \"slide first visible\"})\n",
    "image=image_data.find_all(\"img\")"
   ]
  },
  {
   "cell_type": "code",
   "execution_count": 15,
   "metadata": {
    "scrolled": true
   },
   "outputs": [
    {
     "data": {
      "text/plain": [
       "'https://images.craigslist.org/00f0f_j3Q7i2hw4Dm_600x450.jpg'"
      ]
     },
     "execution_count": 15,
     "metadata": {},
     "output_type": "execute_result"
    }
   ],
   "source": [
    "image_url=str(image[0]).split()[2].replace('src=\"', \"\").replace('\"',\"\")\n",
    "image_url"
   ]
  },
  {
   "cell_type": "markdown",
   "metadata": {},
   "source": [
    "# Spec"
   ]
  },
  {
   "cell_type": "code",
   "execution_count": 16,
   "metadata": {},
   "outputs": [],
   "source": [
    "spec_div = soup.find(\"div\", {\"class\": \"mapAndAttrs\"})\n",
    "spec_row=spec_div.find_all(\"span\")\n",
    "\n",
    "spec_raw=[str(i) for i in spec_row]\n",
    "\n",
    "spec_list=[i.replace('<span>', '').replace('</span>', '').replace('<b>', '').replace('</b>', '') for i in spec_raw]\n",
    "\n",
    "spec_list[0]='model: '+spec_list[0]"
   ]
  },
  {
   "cell_type": "code",
   "execution_count": 17,
   "metadata": {},
   "outputs": [],
   "source": [
    "spec_coord=[i.split(': ') for i in spec_list]"
   ]
  },
  {
   "cell_type": "code",
   "execution_count": 18,
   "metadata": {},
   "outputs": [],
   "source": [
    "display_dict={}\n",
    "for i,k in spec_coord:\n",
    "    display_dict[i]=[k]"
   ]
  },
  {
   "cell_type": "code",
   "execution_count": 19,
   "metadata": {},
   "outputs": [],
   "source": [
    "spec_dict={}\n",
    "for i,k in spec_coord:\n",
    "    spec_dict[i.replace(' ','_')]=[k.replace(' ','_')]"
   ]
  },
  {
   "cell_type": "code",
   "execution_count": 20,
   "metadata": {},
   "outputs": [],
   "source": [
    "display_df=pd.DataFrame.from_dict(display_dict).T"
   ]
  },
  {
   "cell_type": "code",
   "execution_count": 21,
   "metadata": {},
   "outputs": [],
   "source": [
    "raw_df=pd.DataFrame.from_dict(spec_dict)"
   ]
  },
  {
   "cell_type": "code",
   "execution_count": 22,
   "metadata": {},
   "outputs": [
    {
     "data": {
      "text/html": [
       "<div>\n",
       "<style scoped>\n",
       "    .dataframe tbody tr th:only-of-type {\n",
       "        vertical-align: middle;\n",
       "    }\n",
       "\n",
       "    .dataframe tbody tr th {\n",
       "        vertical-align: top;\n",
       "    }\n",
       "\n",
       "    .dataframe thead th {\n",
       "        text-align: right;\n",
       "    }\n",
       "</style>\n",
       "<table border=\"1\" class=\"dataframe\">\n",
       "  <thead>\n",
       "    <tr style=\"text-align: right;\">\n",
       "      <th></th>\n",
       "      <th>0</th>\n",
       "    </tr>\n",
       "  </thead>\n",
       "  <tbody>\n",
       "    <tr>\n",
       "      <th>model</th>\n",
       "      <td>2010 BMW 328i</td>\n",
       "    </tr>\n",
       "    <tr>\n",
       "      <th>VIN</th>\n",
       "      <td>WBAPH5G56ANM36293</td>\n",
       "    </tr>\n",
       "    <tr>\n",
       "      <th>condition</th>\n",
       "      <td>good</td>\n",
       "    </tr>\n",
       "    <tr>\n",
       "      <th>cylinders</th>\n",
       "      <td>4 cylinders</td>\n",
       "    </tr>\n",
       "    <tr>\n",
       "      <th>drive</th>\n",
       "      <td>rwd</td>\n",
       "    </tr>\n",
       "    <tr>\n",
       "      <th>fuel</th>\n",
       "      <td>gas</td>\n",
       "    </tr>\n",
       "    <tr>\n",
       "      <th>odometer</th>\n",
       "      <td>98400</td>\n",
       "    </tr>\n",
       "    <tr>\n",
       "      <th>paint color</th>\n",
       "      <td>black</td>\n",
       "    </tr>\n",
       "    <tr>\n",
       "      <th>title status</th>\n",
       "      <td>clean</td>\n",
       "    </tr>\n",
       "    <tr>\n",
       "      <th>transmission</th>\n",
       "      <td>automatic</td>\n",
       "    </tr>\n",
       "    <tr>\n",
       "      <th>type</th>\n",
       "      <td>sedan</td>\n",
       "    </tr>\n",
       "  </tbody>\n",
       "</table>\n",
       "</div>"
      ],
      "text/plain": [
       "                              0\n",
       "model             2010 BMW 328i\n",
       "VIN           WBAPH5G56ANM36293\n",
       "condition                  good\n",
       "cylinders           4 cylinders\n",
       "drive                       rwd\n",
       "fuel                        gas\n",
       "odometer                  98400\n",
       "paint color               black\n",
       "title status              clean\n",
       "transmission          automatic\n",
       "type                      sedan"
      ]
     },
     "execution_count": 22,
     "metadata": {},
     "output_type": "execute_result"
    }
   ],
   "source": [
    "display_df"
   ]
  },
  {
   "cell_type": "code",
   "execution_count": 23,
   "metadata": {},
   "outputs": [],
   "source": [
    "df=make_simple(raw_df)"
   ]
  },
  {
   "cell_type": "code",
   "execution_count": 24,
   "metadata": {},
   "outputs": [],
   "source": [
    "df=df_stand(df)\n",
    "\n",
    "df=get_dummy(df)"
   ]
  },
  {
   "cell_type": "code",
   "execution_count": 25,
   "metadata": {},
   "outputs": [],
   "source": [
    "features=['year', 'mileage', 'model_1500', 'model_2500', 'model_328i', 'model_3500', 'model_3series',\n",
    "          'model_4runner', 'model_5series', 'model_a4', 'model_acadia', 'model_accord', 'model_altima',\n",
    "          'model_beetle', 'model_camaro', 'model_camry', 'model_cclass', 'model_challenger', 'model_charger',\n",
    "           'model_cherokee', 'model_civic', 'model_colorado', 'model_cooper', 'model_corolla', 'model_corvette',\n",
    "           'model_cruiser', 'model_cruze', 'model_crv', 'model_durango', 'model_e350', 'model_eclass',\n",
    "           'model_edge', 'model_elantra', 'model_equinox', 'model_escalade', 'model_escape', 'model_expedition',\n",
    "           'model_explorer', 'model_f150', 'model_f250', 'model_f350', 'model_focus', 'model_forester',\n",
    "           'model_frontier', 'model_fusion', 'model_genesis', 'model_golf', 'model_gti', 'model_highlander',\n",
    "           'model_impala', 'model_impreza', 'model_is250', 'model_is350', 'model_jetta', 'model_malibu',\n",
    "           'model_mazda3', 'model_mdx', 'model_mustang', 'model_null', 'model_odyssey', 'model_optima',\n",
    "           'model_outback', 'model_passat', 'model_pathfinder', 'model_pilot', 'model_prius', 'model_q5',\n",
    "           'model_ranger', 'model_rav4', 'model_rogue', 'model_santafe', 'model_sentra', 'model_sienna',\n",
    "           'model_sierra', 'model_silverado', 'model_sonata', 'model_sorento', 'model_soul', 'model_sprinter',\n",
    "           'model_suburban', 'model_tacoma', 'model_tahoe', 'model_traverse', 'model_tsx', 'model_tundra',\n",
    "           'model_versa', 'model_wrangler', 'model_wrx', 'model_x3', 'model_x5', 'model_xc90', 'model_xterra',\n",
    "           'model_yukon', 'model_nan', 'condition_excellent', 'condition_fair', 'condition_good', 'condition_like new',\n",
    "           'condition_new', 'condition_salvage', 'condition_nan', 'cylinders_10_cylinders', 'cylinders_12_cylinders',\n",
    "          'cylinders_3_cylinders', 'cylinders_4_cylinders', 'cylinders_5_cylinders', 'cylinders_6_cylinders',\n",
    "           'cylinders_8_cylinders', 'cylinders_other', 'cylinders_nan', 'fuel_diesel', 'fuel_electric', 'fuel_gas', 'fuel_hybrid',\n",
    "           'fuel_other', 'fuel_nan', 'title_status_clean', 'title_status_lien', 'title_status_missing', 'title_status_parts only',\n",
    "           'title_status_rebuilt', 'title_status_salvage', 'title_status_nan', 'transmission_automatic', 'transmission_manual',\n",
    "           'transmission_other', 'transmission_nan', 'drive_4wd', 'drive_fwd', 'drive_rwd', 'drive_nan', 'size_compact',\n",
    "           'size_full-size', 'size_mid-size', 'size_sub-compact', 'size_nan', 'type_SUV', 'type_bus', 'type_convertible',\n",
    "           'type_coupe', 'type_hatchback', 'type_mini-van', 'type_offroad', 'type_other', 'type_pickup',\n",
    "           'type_sedan', 'type_truck', 'type_van', 'type_wagon', 'type_nan', 'paint_color_black', 'paint_color_blue',\n",
    "           'paint_color_brown', 'paint_color_custom', 'paint_color_green', 'paint_color_grey', 'paint_color_orange',\n",
    "           'paint_color_purple', 'paint_color_red', 'paint_color_silver', 'paint_color_white', 'paint_color_yellow',\n",
    "           'paint_color_nan']"
   ]
  },
  {
   "cell_type": "code",
   "execution_count": 26,
   "metadata": {},
   "outputs": [
    {
     "data": {
      "text/plain": [
       "163"
      ]
     },
     "execution_count": 26,
     "metadata": {},
     "output_type": "execute_result"
    }
   ],
   "source": [
    "len(features)"
   ]
  },
  {
   "cell_type": "code",
   "execution_count": 27,
   "metadata": {},
   "outputs": [],
   "source": [
    "data_array=np.zeros(len(features))"
   ]
  },
  {
   "cell_type": "code",
   "execution_count": 28,
   "metadata": {},
   "outputs": [],
   "source": [
    "df_data=pd.DataFrame(data_array.reshape(1,-1), columns=features)"
   ]
  },
  {
   "cell_type": "code",
   "execution_count": 29,
   "metadata": {},
   "outputs": [
    {
     "data": {
      "text/html": [
       "<div>\n",
       "<style scoped>\n",
       "    .dataframe tbody tr th:only-of-type {\n",
       "        vertical-align: middle;\n",
       "    }\n",
       "\n",
       "    .dataframe tbody tr th {\n",
       "        vertical-align: top;\n",
       "    }\n",
       "\n",
       "    .dataframe thead th {\n",
       "        text-align: right;\n",
       "    }\n",
       "</style>\n",
       "<table border=\"1\" class=\"dataframe\">\n",
       "  <thead>\n",
       "    <tr style=\"text-align: right;\">\n",
       "      <th></th>\n",
       "      <th>year</th>\n",
       "      <th>mileage</th>\n",
       "      <th>model_1500</th>\n",
       "      <th>model_2500</th>\n",
       "      <th>model_328i</th>\n",
       "      <th>model_3500</th>\n",
       "      <th>model_3series</th>\n",
       "      <th>model_4runner</th>\n",
       "      <th>model_5series</th>\n",
       "      <th>model_a4</th>\n",
       "      <th>...</th>\n",
       "      <th>paint_color_custom</th>\n",
       "      <th>paint_color_green</th>\n",
       "      <th>paint_color_grey</th>\n",
       "      <th>paint_color_orange</th>\n",
       "      <th>paint_color_purple</th>\n",
       "      <th>paint_color_red</th>\n",
       "      <th>paint_color_silver</th>\n",
       "      <th>paint_color_white</th>\n",
       "      <th>paint_color_yellow</th>\n",
       "      <th>paint_color_nan</th>\n",
       "    </tr>\n",
       "  </thead>\n",
       "  <tbody>\n",
       "    <tr>\n",
       "      <th>0</th>\n",
       "      <td>0.0</td>\n",
       "      <td>0.0</td>\n",
       "      <td>0.0</td>\n",
       "      <td>0.0</td>\n",
       "      <td>0.0</td>\n",
       "      <td>0.0</td>\n",
       "      <td>0.0</td>\n",
       "      <td>0.0</td>\n",
       "      <td>0.0</td>\n",
       "      <td>0.0</td>\n",
       "      <td>...</td>\n",
       "      <td>0.0</td>\n",
       "      <td>0.0</td>\n",
       "      <td>0.0</td>\n",
       "      <td>0.0</td>\n",
       "      <td>0.0</td>\n",
       "      <td>0.0</td>\n",
       "      <td>0.0</td>\n",
       "      <td>0.0</td>\n",
       "      <td>0.0</td>\n",
       "      <td>0.0</td>\n",
       "    </tr>\n",
       "  </tbody>\n",
       "</table>\n",
       "<p>1 rows × 163 columns</p>\n",
       "</div>"
      ],
      "text/plain": [
       "   year  mileage  model_1500  model_2500  model_328i  model_3500  \\\n",
       "0   0.0      0.0         0.0         0.0         0.0         0.0   \n",
       "\n",
       "   model_3series  model_4runner  model_5series  model_a4  ...  \\\n",
       "0            0.0            0.0            0.0       0.0  ...   \n",
       "\n",
       "   paint_color_custom  paint_color_green  paint_color_grey  \\\n",
       "0                 0.0                0.0               0.0   \n",
       "\n",
       "   paint_color_orange  paint_color_purple  paint_color_red  \\\n",
       "0                 0.0                 0.0              0.0   \n",
       "\n",
       "   paint_color_silver  paint_color_white  paint_color_yellow  paint_color_nan  \n",
       "0                 0.0                0.0                 0.0              0.0  \n",
       "\n",
       "[1 rows x 163 columns]"
      ]
     },
     "execution_count": 29,
     "metadata": {},
     "output_type": "execute_result"
    }
   ],
   "source": [
    "df_data"
   ]
  },
  {
   "cell_type": "code",
   "execution_count": 30,
   "metadata": {},
   "outputs": [],
   "source": [
    "for i in df:\n",
    "    if df[i][0]!=0:\n",
    "        df_data[i]=df[i][0]"
   ]
  },
  {
   "cell_type": "code",
   "execution_count": 31,
   "metadata": {},
   "outputs": [
    {
     "data": {
      "text/html": [
       "<div>\n",
       "<style scoped>\n",
       "    .dataframe tbody tr th:only-of-type {\n",
       "        vertical-align: middle;\n",
       "    }\n",
       "\n",
       "    .dataframe tbody tr th {\n",
       "        vertical-align: top;\n",
       "    }\n",
       "\n",
       "    .dataframe thead th {\n",
       "        text-align: right;\n",
       "    }\n",
       "</style>\n",
       "<table border=\"1\" class=\"dataframe\">\n",
       "  <thead>\n",
       "    <tr style=\"text-align: right;\">\n",
       "      <th></th>\n",
       "      <th>year</th>\n",
       "      <th>mileage</th>\n",
       "      <th>model_1500</th>\n",
       "      <th>model_2500</th>\n",
       "      <th>model_328i</th>\n",
       "      <th>model_3500</th>\n",
       "      <th>model_3series</th>\n",
       "      <th>model_4runner</th>\n",
       "      <th>model_5series</th>\n",
       "      <th>model_a4</th>\n",
       "      <th>...</th>\n",
       "      <th>paint_color_custom</th>\n",
       "      <th>paint_color_green</th>\n",
       "      <th>paint_color_grey</th>\n",
       "      <th>paint_color_orange</th>\n",
       "      <th>paint_color_purple</th>\n",
       "      <th>paint_color_red</th>\n",
       "      <th>paint_color_silver</th>\n",
       "      <th>paint_color_white</th>\n",
       "      <th>paint_color_yellow</th>\n",
       "      <th>paint_color_nan</th>\n",
       "    </tr>\n",
       "  </thead>\n",
       "  <tbody>\n",
       "    <tr>\n",
       "      <th>0</th>\n",
       "      <td>0.25</td>\n",
       "      <td>0.047236</td>\n",
       "      <td>0.0</td>\n",
       "      <td>0.0</td>\n",
       "      <td>1</td>\n",
       "      <td>0.0</td>\n",
       "      <td>0.0</td>\n",
       "      <td>0.0</td>\n",
       "      <td>0.0</td>\n",
       "      <td>0.0</td>\n",
       "      <td>...</td>\n",
       "      <td>0.0</td>\n",
       "      <td>0.0</td>\n",
       "      <td>0.0</td>\n",
       "      <td>0.0</td>\n",
       "      <td>0.0</td>\n",
       "      <td>0.0</td>\n",
       "      <td>0.0</td>\n",
       "      <td>0.0</td>\n",
       "      <td>0.0</td>\n",
       "      <td>0.0</td>\n",
       "    </tr>\n",
       "  </tbody>\n",
       "</table>\n",
       "<p>1 rows × 163 columns</p>\n",
       "</div>"
      ],
      "text/plain": [
       "   year   mileage  model_1500  model_2500  model_328i  model_3500  \\\n",
       "0  0.25  0.047236         0.0         0.0           1         0.0   \n",
       "\n",
       "   model_3series  model_4runner  model_5series  model_a4  ...  \\\n",
       "0            0.0            0.0            0.0       0.0  ...   \n",
       "\n",
       "   paint_color_custom  paint_color_green  paint_color_grey  \\\n",
       "0                 0.0                0.0               0.0   \n",
       "\n",
       "   paint_color_orange  paint_color_purple  paint_color_red  \\\n",
       "0                 0.0                 0.0              0.0   \n",
       "\n",
       "   paint_color_silver  paint_color_white  paint_color_yellow  paint_color_nan  \n",
       "0                 0.0                0.0                 0.0              0.0  \n",
       "\n",
       "[1 rows x 163 columns]"
      ]
     },
     "execution_count": 31,
     "metadata": {},
     "output_type": "execute_result"
    }
   ],
   "source": [
    "df_data"
   ]
  },
  {
   "cell_type": "code",
   "execution_count": 32,
   "metadata": {},
   "outputs": [
    {
     "name": "stdout",
     "output_type": "stream",
     "text": [
      "Data_receive.ipynb          model.pkl\r\n",
      "condensed.ipynb             model_pickle.ipynb\r\n",
      "\u001b[34mdata\u001b[m\u001b[m                        model_simplify_190719.ipynb\r\n",
      "\u001b[34mimg\u001b[m\u001b[m\r\n"
     ]
    }
   ],
   "source": [
    "!ls"
   ]
  },
  {
   "cell_type": "code",
   "execution_count": 33,
   "metadata": {},
   "outputs": [],
   "source": [
    "model=pickle.load(open('model.pkl','rb'))"
   ]
  },
  {
   "cell_type": "code",
   "execution_count": 34,
   "metadata": {},
   "outputs": [
    {
     "data": {
      "text/plain": [
       "array([6554.30813691])"
      ]
     },
     "execution_count": 34,
     "metadata": {},
     "output_type": "execute_result"
    }
   ],
   "source": [
    "model.predict(df_data)"
   ]
  },
  {
   "cell_type": "code",
   "execution_count": null,
   "metadata": {},
   "outputs": [],
   "source": []
  }
 ],
 "metadata": {
  "kernelspec": {
   "display_name": "Python 3",
   "language": "python",
   "name": "python3"
  },
  "language_info": {
   "codemirror_mode": {
    "name": "ipython",
    "version": 3
   },
   "file_extension": ".py",
   "mimetype": "text/x-python",
   "name": "python",
   "nbconvert_exporter": "python",
   "pygments_lexer": "ipython3",
   "version": "3.7.3"
  }
 },
 "nbformat": 4,
 "nbformat_minor": 2
}
